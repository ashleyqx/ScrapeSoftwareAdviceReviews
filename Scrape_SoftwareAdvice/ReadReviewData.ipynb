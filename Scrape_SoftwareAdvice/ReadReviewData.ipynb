{
 "cells": [
  {
   "cell_type": "code",
   "execution_count": 1,
   "metadata": {},
   "outputs": [],
   "source": [
    "import pandas as pd\n",
    "import matplotlib.pyplot as plt\n",
    "%matplotlib inline"
   ]
  },
  {
   "cell_type": "code",
   "execution_count": 2,
   "metadata": {},
   "outputs": [
    {
     "data": {
      "text/html": [
       "<div>\n",
       "<style scoped>\n",
       "    .dataframe tbody tr th:only-of-type {\n",
       "        vertical-align: middle;\n",
       "    }\n",
       "\n",
       "    .dataframe tbody tr th {\n",
       "        vertical-align: top;\n",
       "    }\n",
       "\n",
       "    .dataframe thead th {\n",
       "        text-align: right;\n",
       "    }\n",
       "</style>\n",
       "<table border=\"1\" class=\"dataframe\">\n",
       "  <thead>\n",
       "    <tr style=\"text-align: right;\">\n",
       "      <th></th>\n",
       "      <th>Entry</th>\n",
       "      <th>Reviewer</th>\n",
       "      <th>Reviewer company</th>\n",
       "      <th>Overall rating</th>\n",
       "      <th>Ease-of-use</th>\n",
       "      <th>Customer support</th>\n",
       "      <th>Functionality</th>\n",
       "      <th>Value for money</th>\n",
       "      <th>Review title</th>\n",
       "      <th>Review summary</th>\n",
       "      <th>Review pros</th>\n",
       "      <th>Review cons</th>\n",
       "    </tr>\n",
       "  </thead>\n",
       "  <tbody>\n",
       "    <tr>\n",
       "      <th>0</th>\n",
       "      <td>Dundas BI Reviews</td>\n",
       "      <td>Gunder</td>\n",
       "      <td>Ennova</td>\n",
       "      <td>4.5</td>\n",
       "      <td>4.5</td>\n",
       "      <td>4.0</td>\n",
       "      <td>5.0</td>\n",
       "      <td>NaN</td>\n",
       "      <td>Intuitive and flexible</td>\n",
       "      <td>NaN</td>\n",
       "      <td>It is very eays to setup connection to data an...</td>\n",
       "      <td>There are some export features, but the export...</td>\n",
       "    </tr>\n",
       "    <tr>\n",
       "      <th>1</th>\n",
       "      <td>Dundas BI Reviews</td>\n",
       "      <td>Ray</td>\n",
       "      <td>IT</td>\n",
       "      <td>5.0</td>\n",
       "      <td>5.0</td>\n",
       "      <td>5.0</td>\n",
       "      <td>5.0</td>\n",
       "      <td>5.0</td>\n",
       "      <td>Powerful and flexible BI solution</td>\n",
       "      <td>NaN</td>\n",
       "      <td>Dundas BI has quick responsive support team to...</td>\n",
       "      <td>lacking of mature version control no source co...</td>\n",
       "    </tr>\n",
       "    <tr>\n",
       "      <th>2</th>\n",
       "      <td>Dundas BI Reviews</td>\n",
       "      <td>David</td>\n",
       "      <td>Activeo</td>\n",
       "      <td>5.0</td>\n",
       "      <td>5.0</td>\n",
       "      <td>5.0</td>\n",
       "      <td>5.0</td>\n",
       "      <td>NaN</td>\n",
       "      <td>Dundas Review</td>\n",
       "      <td>NaN</td>\n",
       "      <td>Product :   Dundas BI has a very friendly inte...</td>\n",
       "      <td>I would have like getting more detailed inform...</td>\n",
       "    </tr>\n",
       "    <tr>\n",
       "      <th>3</th>\n",
       "      <td>Dundas BI Reviews</td>\n",
       "      <td>David</td>\n",
       "      <td>E-Tabs</td>\n",
       "      <td>5.0</td>\n",
       "      <td>3.0</td>\n",
       "      <td>5.0</td>\n",
       "      <td>5.0</td>\n",
       "      <td>NaN</td>\n",
       "      <td>Dundas allows you to display your data exactly...</td>\n",
       "      <td>NaN</td>\n",
       "      <td>The platform is so powerful and versatile. Usi...</td>\n",
       "      <td>With the complexity comes a steep learning cur...</td>\n",
       "    </tr>\n",
       "    <tr>\n",
       "      <th>4</th>\n",
       "      <td>Dundas BI Reviews</td>\n",
       "      <td>Andre</td>\n",
       "      <td>Open Media Platform</td>\n",
       "      <td>5.0</td>\n",
       "      <td>5.0</td>\n",
       "      <td>5.0</td>\n",
       "      <td>NaN</td>\n",
       "      <td>NaN</td>\n",
       "      <td>Visual BI</td>\n",
       "      <td>Scalable embedded BI platform that enables any...</td>\n",
       "      <td>NaN</td>\n",
       "      <td>NaN</td>\n",
       "    </tr>\n",
       "  </tbody>\n",
       "</table>\n",
       "</div>"
      ],
      "text/plain": [
       "               Entry Reviewer     Reviewer company  Overall rating  \\\n",
       "0  Dundas BI Reviews   Gunder               Ennova             4.5   \n",
       "1  Dundas BI Reviews      Ray                   IT             5.0   \n",
       "2  Dundas BI Reviews    David              Activeo             5.0   \n",
       "3  Dundas BI Reviews    David               E-Tabs             5.0   \n",
       "4  Dundas BI Reviews    Andre  Open Media Platform             5.0   \n",
       "\n",
       "   Ease-of-use  Customer support  Functionality  Value for money  \\\n",
       "0          4.5               4.0            5.0              NaN   \n",
       "1          5.0               5.0            5.0              5.0   \n",
       "2          5.0               5.0            5.0              NaN   \n",
       "3          3.0               5.0            5.0              NaN   \n",
       "4          5.0               5.0            NaN              NaN   \n",
       "\n",
       "                                        Review title  \\\n",
       "0                             Intuitive and flexible   \n",
       "1                  Powerful and flexible BI solution   \n",
       "2                                      Dundas Review   \n",
       "3  Dundas allows you to display your data exactly...   \n",
       "4                                          Visual BI   \n",
       "\n",
       "                                      Review summary  \\\n",
       "0                                                NaN   \n",
       "1                                                NaN   \n",
       "2                                                NaN   \n",
       "3                                                NaN   \n",
       "4  Scalable embedded BI platform that enables any...   \n",
       "\n",
       "                                         Review pros  \\\n",
       "0  It is very eays to setup connection to data an...   \n",
       "1  Dundas BI has quick responsive support team to...   \n",
       "2  Product :   Dundas BI has a very friendly inte...   \n",
       "3  The platform is so powerful and versatile. Usi...   \n",
       "4                                                NaN   \n",
       "\n",
       "                                         Review cons  \n",
       "0  There are some export features, but the export...  \n",
       "1  lacking of mature version control no source co...  \n",
       "2  I would have like getting more detailed inform...  \n",
       "3  With the complexity comes a steep learning cur...  \n",
       "4                                                NaN  "
      ]
     },
     "execution_count": 2,
     "metadata": {},
     "output_type": "execute_result"
    }
   ],
   "source": [
    "df = pd.read_csv('output.csv')\n",
    "df.head()"
   ]
  },
  {
   "cell_type": "code",
   "execution_count": 3,
   "metadata": {},
   "outputs": [
    {
     "data": {
      "text/html": [
       "<div>\n",
       "<style scoped>\n",
       "    .dataframe tbody tr th:only-of-type {\n",
       "        vertical-align: middle;\n",
       "    }\n",
       "\n",
       "    .dataframe tbody tr th {\n",
       "        vertical-align: top;\n",
       "    }\n",
       "\n",
       "    .dataframe thead th {\n",
       "        text-align: right;\n",
       "    }\n",
       "</style>\n",
       "<table border=\"1\" class=\"dataframe\">\n",
       "  <thead>\n",
       "    <tr style=\"text-align: right;\">\n",
       "      <th></th>\n",
       "      <th>Overall rating</th>\n",
       "      <th>Ease-of-use</th>\n",
       "      <th>Customer support</th>\n",
       "      <th>Functionality</th>\n",
       "      <th>Value for money</th>\n",
       "    </tr>\n",
       "  </thead>\n",
       "  <tbody>\n",
       "    <tr>\n",
       "      <th>count</th>\n",
       "      <td>112.000000</td>\n",
       "      <td>112.000000</td>\n",
       "      <td>103.000000</td>\n",
       "      <td>109.000000</td>\n",
       "      <td>73.000000</td>\n",
       "    </tr>\n",
       "    <tr>\n",
       "      <th>mean</th>\n",
       "      <td>4.482143</td>\n",
       "      <td>4.075893</td>\n",
       "      <td>4.669903</td>\n",
       "      <td>4.582569</td>\n",
       "      <td>4.308219</td>\n",
       "    </tr>\n",
       "    <tr>\n",
       "      <th>std</th>\n",
       "      <td>0.588664</td>\n",
       "      <td>0.932906</td>\n",
       "      <td>0.600463</td>\n",
       "      <td>0.567294</td>\n",
       "      <td>0.806356</td>\n",
       "    </tr>\n",
       "    <tr>\n",
       "      <th>min</th>\n",
       "      <td>3.000000</td>\n",
       "      <td>1.000000</td>\n",
       "      <td>2.000000</td>\n",
       "      <td>3.000000</td>\n",
       "      <td>2.000000</td>\n",
       "    </tr>\n",
       "    <tr>\n",
       "      <th>25%</th>\n",
       "      <td>4.000000</td>\n",
       "      <td>4.000000</td>\n",
       "      <td>4.500000</td>\n",
       "      <td>4.000000</td>\n",
       "      <td>4.000000</td>\n",
       "    </tr>\n",
       "    <tr>\n",
       "      <th>50%</th>\n",
       "      <td>4.500000</td>\n",
       "      <td>4.000000</td>\n",
       "      <td>5.000000</td>\n",
       "      <td>5.000000</td>\n",
       "      <td>4.500000</td>\n",
       "    </tr>\n",
       "    <tr>\n",
       "      <th>75%</th>\n",
       "      <td>5.000000</td>\n",
       "      <td>5.000000</td>\n",
       "      <td>5.000000</td>\n",
       "      <td>5.000000</td>\n",
       "      <td>5.000000</td>\n",
       "    </tr>\n",
       "    <tr>\n",
       "      <th>max</th>\n",
       "      <td>5.000000</td>\n",
       "      <td>5.000000</td>\n",
       "      <td>5.000000</td>\n",
       "      <td>5.000000</td>\n",
       "      <td>5.000000</td>\n",
       "    </tr>\n",
       "  </tbody>\n",
       "</table>\n",
       "</div>"
      ],
      "text/plain": [
       "       Overall rating  Ease-of-use  Customer support  Functionality  \\\n",
       "count      112.000000   112.000000        103.000000     109.000000   \n",
       "mean         4.482143     4.075893          4.669903       4.582569   \n",
       "std          0.588664     0.932906          0.600463       0.567294   \n",
       "min          3.000000     1.000000          2.000000       3.000000   \n",
       "25%          4.000000     4.000000          4.500000       4.000000   \n",
       "50%          4.500000     4.000000          5.000000       5.000000   \n",
       "75%          5.000000     5.000000          5.000000       5.000000   \n",
       "max          5.000000     5.000000          5.000000       5.000000   \n",
       "\n",
       "       Value for money  \n",
       "count        73.000000  \n",
       "mean          4.308219  \n",
       "std           0.806356  \n",
       "min           2.000000  \n",
       "25%           4.000000  \n",
       "50%           4.500000  \n",
       "75%           5.000000  \n",
       "max           5.000000  "
      ]
     },
     "execution_count": 3,
     "metadata": {},
     "output_type": "execute_result"
    }
   ],
   "source": [
    "df.describe()"
   ]
  },
  {
   "cell_type": "code",
   "execution_count": 4,
   "metadata": {},
   "outputs": [
    {
     "data": {
      "text/plain": [
       "Text(0.5, 0, 'Overall rating')"
      ]
     },
     "execution_count": 4,
     "metadata": {},
     "output_type": "execute_result"
    },
    {
     "data": {
      "image/png": "[encoded data removed]",
      "text/plain": [
       "<Figure size 432x288 with 1 Axes>"
      ]
     },
     "metadata": {
      "needs_background": "light"
     },
     "output_type": "display_data"
    }
   ],
   "source": [
    "ax = df['Overall rating'].plot(kind='hist')\n",
    "ax.set_xlabel('Overall rating')"
   ]
  },
  {
   "cell_type": "code",
   "execution_count": 5,
   "metadata": {},
   "outputs": [
    {
     "name": "stderr",
     "output_type": "stream",
     "text": [
      "/Applications/anaconda3/lib/python3.7/site-packages/numpy/lib/histograms.py:839: RuntimeWarning: invalid value encountered in greater_equal\n",
      "  keep = (tmp_a >= first_edge)\n",
      "/Applications/anaconda3/lib/python3.7/site-packages/numpy/lib/histograms.py:840: RuntimeWarning: invalid value encountered in less_equal\n",
      "  keep &= (tmp_a <= last_edge)\n"
     ]
    },
    {
     "data": {
      "image/png": "[encoded data removed]",
      "text/plain": [
       "<Figure size 720x720 with 4 Axes>"
      ]
     },
     "metadata": {
      "needs_background": "light"
     },
     "output_type": "display_data"
    }
   ],
   "source": [
    "labels = ['Ease-of-use', 'Value for money', 'Customer support', 'Functionality']\n",
    "fig, axes = plt.subplots(2, 2, figsize=(10, 10))\n",
    "for idx, ax in enumerate(axes.flatten()):\n",
    "    ax.hist(df[labels[idx]])\n",
    "    ax.set_xlabel(labels[idx])"
   ]
  }
 ],
 "metadata": {
  "kernelspec": {
   "display_name": "Python 3",
   "language": "python",
   "name": "python3"
  },
  "language_info": {
   "codemirror_mode": {
    "name": "ipython",
    "version": 3
   },
   "file_extension": ".py",
   "mimetype": "text/x-python",
   "name": "python",
   "nbconvert_exporter": "python",
   "pygments_lexer": "ipython3",
   "version": "3.7.6"
  }
 },
 "nbformat": 4,
 "nbformat_minor": 4
}
